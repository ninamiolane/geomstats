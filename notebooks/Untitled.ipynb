{
 "cells": [
  {
   "cell_type": "markdown",
   "id": "a85e00fb",
   "metadata": {},
   "source": [
    "# Tutorial: Equivariant Layers from LieGroups"
   ]
  },
  {
   "cell_type": "code",
   "execution_count": 10,
   "id": "da6e1bd1",
   "metadata": {},
   "outputs": [
    {
     "name": "stdout",
     "output_type": "stream",
     "text": [
      ":/Users/ninamiolane/Google Drive/My Drive/code\r\n"
     ]
    }
   ],
   "source": [
    "!echo $PYTHONPATH"
   ]
  },
  {
   "cell_type": "code",
   "execution_count": 9,
   "id": "29bc6362",
   "metadata": {},
   "outputs": [
    {
     "ename": "ModuleNotFoundError",
     "evalue": "No module named 'geomstats.backend'",
     "output_type": "error",
     "traceback": [
      "\u001b[0;31m---------------------------------------------------------------------------\u001b[0m",
      "\u001b[0;31mModuleNotFoundError\u001b[0m                       Traceback (most recent call last)",
      "\u001b[0;32m/var/folders/dz/k1hb2xr94k558sjs416njdp40000gn/T/ipykernel_34241/3722993670.py\u001b[0m in \u001b[0;36m<module>\u001b[0;34m\u001b[0m\n\u001b[1;32m      6\u001b[0m \u001b[0mwarnings\u001b[0m\u001b[0;34m.\u001b[0m\u001b[0mfilterwarnings\u001b[0m\u001b[0;34m(\u001b[0m\u001b[0;34m'ignore'\u001b[0m\u001b[0;34m)\u001b[0m\u001b[0;34m\u001b[0m\u001b[0;34m\u001b[0m\u001b[0m\n\u001b[1;32m      7\u001b[0m \u001b[0;34m\u001b[0m\u001b[0m\n\u001b[0;32m----> 8\u001b[0;31m \u001b[0;32mimport\u001b[0m \u001b[0mgeomstats\u001b[0m\u001b[0;34m.\u001b[0m\u001b[0mbackend\u001b[0m \u001b[0;32mas\u001b[0m \u001b[0mgs\u001b[0m\u001b[0;34m\u001b[0m\u001b[0;34m\u001b[0m\u001b[0m\n\u001b[0m",
      "\u001b[0;31mModuleNotFoundError\u001b[0m: No module named 'geomstats.backend'"
     ]
    }
   ],
   "source": [
    "import os\n",
    "import sys\n",
    "import warnings\n",
    "\n",
    "sys.path.append(os.path.dirname(os.getcwd()))\n",
    "warnings.filterwarnings('ignore')\n",
    "\n",
    "import geomstats.backend as gs"
   ]
  },
  {
   "cell_type": "code",
   "execution_count": 1,
   "id": "04d7a72d",
   "metadata": {},
   "outputs": [
    {
     "name": "stdout",
     "output_type": "stream",
     "text": [
      "Collecting emlp\n",
      "  Downloading emlp-1.0.2-py3-none-any.whl (47 kB)\n",
      "\u001b[K     |████████████████████████████████| 47 kB 2.1 MB/s eta 0:00:01\n",
      "\u001b[?25hCollecting objax\n",
      "  Downloading objax-1.4.0.tar.gz (50 kB)\n",
      "\u001b[K     |████████████████████████████████| 50 kB 4.6 MB/s eta 0:00:01\n",
      "\u001b[?25hCollecting optax\n",
      "  Downloading optax-0.0.9-py3-none-any.whl (118 kB)\n",
      "\u001b[K     |████████████████████████████████| 118 kB 10.4 MB/s eta 0:00:01\n",
      "\u001b[?25hCollecting pytest\n",
      "  Downloading pytest-6.2.4-py3-none-any.whl (280 kB)\n",
      "\u001b[K     |████████████████████████████████| 280 kB 17.6 MB/s eta 0:00:01\n",
      "\u001b[?25hCollecting sklearn\n",
      "  Downloading sklearn-0.0.tar.gz (1.1 kB)\n",
      "Collecting plum-dispatch\n",
      "  Downloading plum-dispatch-1.5.2.tar.gz (43 kB)\n",
      "\u001b[K     |████████████████████████████████| 43 kB 5.0 MB/s  eta 0:00:01\n",
      "\u001b[?25h  Installing build dependencies ... \u001b[?25ldone\n",
      "\u001b[?25h  Getting requirements to build wheel ... \u001b[?25ldone\n",
      "\u001b[?25h    Preparing wheel metadata ... \u001b[?25ldone\n",
      "\u001b[?25hRequirement already satisfied: matplotlib in /Users/ninamiolane/opt/anaconda3/envs/geomstats-3.8/lib/python3.8/site-packages (from emlp) (3.4.3)\n",
      "Collecting h5py\n",
      "  Downloading h5py-3.3.0-cp38-cp38-macosx_10_9_x86_64.whl (2.9 MB)\n",
      "\u001b[K     |████████████████████████████████| 2.9 MB 12.6 MB/s eta 0:00:01\n",
      "\u001b[?25hCollecting tqdm>=4.38\n",
      "  Downloading tqdm-4.62.1-py2.py3-none-any.whl (76 kB)\n",
      "\u001b[K     |████████████████████████████████| 76 kB 9.5 MB/s  eta 0:00:01\n",
      "\u001b[?25hRequirement already satisfied: numpy>=1.17.5 in /Users/ninamiolane/opt/anaconda3/envs/geomstats-3.8/lib/python3.8/site-packages (from h5py->emlp) (1.21.1)\n",
      "Requirement already satisfied: pyparsing>=2.2.1 in /Users/ninamiolane/opt/anaconda3/envs/geomstats-3.8/lib/python3.8/site-packages (from matplotlib->emlp) (2.4.7)\n",
      "Requirement already satisfied: cycler>=0.10 in /Users/ninamiolane/opt/anaconda3/envs/geomstats-3.8/lib/python3.8/site-packages (from matplotlib->emlp) (0.10.0)\n",
      "Requirement already satisfied: pillow>=6.2.0 in /Users/ninamiolane/opt/anaconda3/envs/geomstats-3.8/lib/python3.8/site-packages (from matplotlib->emlp) (8.3.1)\n",
      "Requirement already satisfied: kiwisolver>=1.0.1 in /Users/ninamiolane/opt/anaconda3/envs/geomstats-3.8/lib/python3.8/site-packages (from matplotlib->emlp) (1.3.1)\n",
      "Requirement already satisfied: python-dateutil>=2.7 in /Users/ninamiolane/opt/anaconda3/envs/geomstats-3.8/lib/python3.8/site-packages (from matplotlib->emlp) (2.8.2)\n",
      "Requirement already satisfied: six in /Users/ninamiolane/opt/anaconda3/envs/geomstats-3.8/lib/python3.8/site-packages (from cycler>=0.10->matplotlib->emlp) (1.16.0)\n",
      "Requirement already satisfied: scipy in /Users/ninamiolane/opt/anaconda3/envs/geomstats-3.8/lib/python3.8/site-packages (from objax->emlp) (1.7.1)\n",
      "Collecting jaxlib\n",
      "  Downloading jaxlib-0.1.70-cp38-none-macosx_10_9_x86_64.whl (44.8 MB)\n",
      "\u001b[K     |████████████████████████████████| 44.8 MB 392 kB/s eta 0:00:011\n",
      "\u001b[?25hCollecting jax>=0.2.10\n",
      "  Downloading jax-0.2.19.tar.gz (728 kB)\n",
      "\u001b[K     |████████████████████████████████| 728 kB 19.1 MB/s eta 0:00:01\n",
      "\u001b[?25hCollecting tensorboard>=2.3.0\n",
      "  Downloading tensorboard-2.6.0-py3-none-any.whl (5.6 MB)\n",
      "\u001b[K     |████████████████████████████████| 5.6 MB 16.9 MB/s eta 0:00:01\n",
      "\u001b[?25hCollecting parameterized\n",
      "  Downloading parameterized-0.8.1-py2.py3-none-any.whl (26 kB)\n",
      "Collecting absl-py\n",
      "  Downloading absl_py-0.13.0-py3-none-any.whl (132 kB)\n",
      "\u001b[K     |████████████████████████████████| 132 kB 12.1 MB/s eta 0:00:01\n",
      "\u001b[?25hCollecting opt_einsum\n",
      "  Downloading opt_einsum-3.3.0-py3-none-any.whl (65 kB)\n",
      "\u001b[K     |████████████████████████████████| 65 kB 7.0 MB/s  eta 0:00:01\n",
      "\u001b[?25hCollecting google-auth<2,>=1.6.3\n",
      "  Downloading google_auth-1.35.0-py2.py3-none-any.whl (152 kB)\n",
      "\u001b[K     |████████████████████████████████| 152 kB 13.0 MB/s eta 0:00:01\n",
      "\u001b[?25hRequirement already satisfied: wheel>=0.26 in /Users/ninamiolane/opt/anaconda3/envs/geomstats-3.8/lib/python3.8/site-packages (from tensorboard>=2.3.0->objax->emlp) (0.37.0)\n",
      "Collecting requests<3,>=2.21.0\n",
      "  Downloading requests-2.26.0-py2.py3-none-any.whl (62 kB)\n",
      "\u001b[K     |████████████████████████████████| 62 kB 3.0 MB/s  eta 0:00:01\n",
      "\u001b[?25hCollecting google-auth-oauthlib<0.5,>=0.4.1\n",
      "  Downloading google_auth_oauthlib-0.4.5-py2.py3-none-any.whl (18 kB)\n",
      "Requirement already satisfied: setuptools>=41.0.0 in /Users/ninamiolane/opt/anaconda3/envs/geomstats-3.8/lib/python3.8/site-packages (from tensorboard>=2.3.0->objax->emlp) (49.6.0.post20210108)\n",
      "Collecting tensorboard-data-server<0.7.0,>=0.6.0\n",
      "  Downloading tensorboard_data_server-0.6.1-py3-none-macosx_10_9_x86_64.whl (3.5 MB)\n",
      "\u001b[K     |████████████████████████████████| 3.5 MB 11.7 MB/s eta 0:00:01\n",
      "\u001b[?25hCollecting protobuf>=3.6.0\n",
      "  Downloading protobuf-3.17.3-cp38-cp38-macosx_10_9_x86_64.whl (1.0 MB)\n",
      "\u001b[K     |████████████████████████████████| 1.0 MB 7.4 MB/s eta 0:00:01\n",
      "\u001b[?25hCollecting tensorboard-plugin-wit>=1.6.0\n",
      "  Downloading tensorboard_plugin_wit-1.8.0-py3-none-any.whl (781 kB)\n",
      "\u001b[K     |████████████████████████████████| 781 kB 11.6 MB/s eta 0:00:01\n",
      "\u001b[?25hCollecting werkzeug>=0.11.15\n",
      "  Downloading Werkzeug-2.0.1-py3-none-any.whl (288 kB)\n",
      "\u001b[K     |████████████████████████████████| 288 kB 2.6 MB/s eta 0:00:01\n",
      "\u001b[?25hCollecting grpcio>=1.24.3\n",
      "  Downloading grpcio-1.39.0-cp38-cp38-macosx_10_10_x86_64.whl (3.9 MB)\n",
      "\u001b[K     |████████████████████████████████| 3.9 MB 15.0 MB/s eta 0:00:01\n",
      "\u001b[?25hCollecting markdown>=2.6.8\n",
      "  Downloading Markdown-3.3.4-py3-none-any.whl (97 kB)\n",
      "\u001b[K     |████████████████████████████████| 97 kB 5.1 MB/s eta 0:00:01\n",
      "\u001b[?25hCollecting rsa<5,>=3.1.4\n",
      "  Downloading rsa-4.7.2-py3-none-any.whl (34 kB)\n",
      "Collecting cachetools<5.0,>=2.0.0\n",
      "  Downloading cachetools-4.2.2-py3-none-any.whl (11 kB)\n",
      "Collecting pyasn1-modules>=0.2.1\n",
      "  Downloading pyasn1_modules-0.2.8-py2.py3-none-any.whl (155 kB)\n",
      "\u001b[K     |████████████████████████████████| 155 kB 4.9 MB/s eta 0:00:01\n",
      "\u001b[?25hCollecting requests-oauthlib>=0.7.0\n",
      "  Downloading requests_oauthlib-1.3.0-py2.py3-none-any.whl (23 kB)\n",
      "Collecting pyasn1<0.5.0,>=0.4.6\n",
      "  Downloading pyasn1-0.4.8-py2.py3-none-any.whl (77 kB)\n",
      "\u001b[K     |████████████████████████████████| 77 kB 10.7 MB/s eta 0:00:01\n",
      "\u001b[?25hCollecting urllib3<1.27,>=1.21.1\n",
      "  Downloading urllib3-1.26.6-py2.py3-none-any.whl (138 kB)\n",
      "\u001b[K     |████████████████████████████████| 138 kB 11.8 MB/s eta 0:00:01\n",
      "\u001b[?25hRequirement already satisfied: certifi>=2017.4.17 in /Users/ninamiolane/opt/anaconda3/envs/geomstats-3.8/lib/python3.8/site-packages (from requests<3,>=2.21.0->tensorboard>=2.3.0->objax->emlp) (2021.5.30)\n",
      "Collecting idna<4,>=2.5\n",
      "  Downloading idna-3.2-py3-none-any.whl (59 kB)\n",
      "\u001b[K     |████████████████████████████████| 59 kB 11.0 MB/s eta 0:00:01\n",
      "\u001b[?25hCollecting charset-normalizer~=2.0.0\n",
      "  Downloading charset_normalizer-2.0.4-py3-none-any.whl (36 kB)\n",
      "Collecting oauthlib>=3.0.0\n",
      "  Downloading oauthlib-3.1.1-py2.py3-none-any.whl (146 kB)\n",
      "\u001b[K     |████████████████████████████████| 146 kB 14.1 MB/s eta 0:00:01\n",
      "\u001b[?25hCollecting flatbuffers<3.0,>=1.12\n",
      "  Downloading flatbuffers-2.0-py2.py3-none-any.whl (26 kB)\n",
      "Collecting chex>=0.0.4\n",
      "  Downloading chex-0.0.8-py3-none-any.whl (57 kB)\n",
      "\u001b[K     |████████████████████████████████| 57 kB 10.5 MB/s eta 0:00:01\n",
      "\u001b[?25hCollecting toolz>=0.9.0\n",
      "  Downloading toolz-0.11.1-py3-none-any.whl (55 kB)\n",
      "\u001b[K     |████████████████████████████████| 55 kB 11.3 MB/s eta 0:00:01\n",
      "\u001b[?25hCollecting dm-tree>=0.1.5\n",
      "  Downloading dm_tree-0.1.6-cp38-cp38-macosx_10_14_x86_64.whl (95 kB)\n",
      "\u001b[K     |████████████████████████████████| 95 kB 4.1 MB/s eta 0:00:01\n",
      "\u001b[?25hCollecting iniconfig\n",
      "  Downloading iniconfig-1.1.1-py2.py3-none-any.whl (5.0 kB)\n",
      "Requirement already satisfied: attrs>=19.2.0 in /Users/ninamiolane/opt/anaconda3/envs/geomstats-3.8/lib/python3.8/site-packages (from pytest->emlp) (21.2.0)\n",
      "Collecting py>=1.8.2\n",
      "  Downloading py-1.10.0-py2.py3-none-any.whl (97 kB)\n",
      "\u001b[K     |████████████████████████████████| 97 kB 4.6 MB/s eta 0:00:01\n",
      "\u001b[?25hRequirement already satisfied: packaging in /Users/ninamiolane/opt/anaconda3/envs/geomstats-3.8/lib/python3.8/site-packages (from pytest->emlp) (21.0)\n",
      "Collecting toml\n",
      "  Downloading toml-0.10.2-py2.py3-none-any.whl (16 kB)\n",
      "Collecting pluggy<1.0.0a1,>=0.12\n",
      "  Downloading pluggy-0.13.1-py2.py3-none-any.whl (18 kB)\n",
      "Requirement already satisfied: scikit-learn in /Users/ninamiolane/opt/anaconda3/envs/geomstats-3.8/lib/python3.8/site-packages (from sklearn->emlp) (0.24.2)\n"
     ]
    },
    {
     "name": "stdout",
     "output_type": "stream",
     "text": [
      "Requirement already satisfied: threadpoolctl>=2.0.0 in /Users/ninamiolane/opt/anaconda3/envs/geomstats-3.8/lib/python3.8/site-packages (from scikit-learn->sklearn->emlp) (2.2.0)\n",
      "Requirement already satisfied: joblib>=0.11 in /Users/ninamiolane/opt/anaconda3/envs/geomstats-3.8/lib/python3.8/site-packages (from scikit-learn->sklearn->emlp) (0.14.1)\n",
      "Building wheels for collected packages: objax, jax, plum-dispatch, sklearn\n",
      "  Building wheel for objax (setup.py) ... \u001b[?25ldone\n",
      "\u001b[?25h  Created wheel for objax: filename=objax-1.4.0-py3-none-any.whl size=78545 sha256=0f9340e6d36ad8f8cb508b15eee4affb4cbf3eb210a95d1531b9e8ef291c97bc\n",
      "  Stored in directory: /Users/ninamiolane/Library/Caches/pip/wheels/c9/46/0b/5d90af40359bd05430275dbf38e7e046ef0811fef55d482164\n",
      "  Building wheel for jax (setup.py) ... \u001b[?25ldone\n",
      "\u001b[?25h  Created wheel for jax: filename=jax-0.2.19-py3-none-any.whl size=834868 sha256=d31d547ed900acd5b5ce40fd3a757896b38e15d13537455a386fa8d8a5cedf34\n",
      "  Stored in directory: /Users/ninamiolane/Library/Caches/pip/wheels/78/ae/07/bd3adac873fa80efc909c09331831905ac657dbb8d1278235e\n",
      "  Building wheel for plum-dispatch (PEP 517) ... \u001b[?25ldone\n",
      "\u001b[?25h  Created wheel for plum-dispatch: filename=plum_dispatch-1.5.2-cp38-cp38-macosx_10_9_x86_64.whl size=137121 sha256=d4e71dd6bf64ac993aa72a6ba2e7e513716e59d70bba49029da2c4186663f564\n",
      "  Stored in directory: /Users/ninamiolane/Library/Caches/pip/wheels/ee/e9/e6/26a225c8d2a78b33e5d52cd42f139c4b780ec1870eea986efe\n",
      "  Building wheel for sklearn (setup.py) ... \u001b[?25ldone\n",
      "\u001b[?25h  Created wheel for sklearn: filename=sklearn-0.0-py2.py3-none-any.whl size=1317 sha256=e7b1415f1be3ab354786fa778884791276d89638ed715f23653259bda2394e84\n",
      "  Stored in directory: /Users/ninamiolane/Library/Caches/pip/wheels/22/0b/40/fd3f795caaa1fb4c6cb738bc1f56100be1e57da95849bfc897\n",
      "Successfully built objax jax plum-dispatch sklearn\n",
      "Installing collected packages: urllib3, pyasn1, idna, charset-normalizer, rsa, requests, pyasn1-modules, oauthlib, cachetools, requests-oauthlib, opt-einsum, google-auth, flatbuffers, absl-py, werkzeug, toolz, tensorboard-plugin-wit, tensorboard-data-server, protobuf, markdown, jaxlib, jax, grpcio, google-auth-oauthlib, dm-tree, toml, tensorboard, py, pluggy, parameterized, iniconfig, chex, tqdm, sklearn, pytest, plum-dispatch, optax, objax, h5py, emlp\n",
      "Successfully installed absl-py-0.13.0 cachetools-4.2.2 charset-normalizer-2.0.4 chex-0.0.8 dm-tree-0.1.6 emlp-1.0.2 flatbuffers-2.0 google-auth-1.35.0 google-auth-oauthlib-0.4.5 grpcio-1.39.0 h5py-3.3.0 idna-3.2 iniconfig-1.1.1 jax-0.2.19 jaxlib-0.1.70 markdown-3.3.4 oauthlib-3.1.1 objax-1.4.0 opt-einsum-3.3.0 optax-0.0.9 parameterized-0.8.1 pluggy-0.13.1 plum-dispatch-1.5.2 protobuf-3.17.3 py-1.10.0 pyasn1-0.4.8 pyasn1-modules-0.2.8 pytest-6.2.4 requests-2.26.0 requests-oauthlib-1.3.0 rsa-4.7.2 sklearn-0.0 tensorboard-2.6.0 tensorboard-data-server-0.6.1 tensorboard-plugin-wit-1.8.0 toml-0.10.2 toolz-0.11.1 tqdm-4.62.1 urllib3-1.26.6 werkzeug-2.0.1\n"
     ]
    }
   ],
   "source": [
    "!pip install emlp"
   ]
  },
  {
   "cell_type": "code",
   "execution_count": 2,
   "id": "d84833b2",
   "metadata": {},
   "outputs": [
    {
     "name": "stderr",
     "output_type": "stream",
     "text": [
      "WARNING:absl:No GPU/TPU found, falling back to CPU. (Set TF_CPP_MIN_LOG_LEVEL=0 and rerun for more info.)\n"
     ]
    },
    {
     "data": {
      "application/vnd.jupyter.widget-view+json": {
       "model_id": "e57921fe815f41279792d353e99b93c7",
       "version_major": 2,
       "version_minor": 0
      },
      "text/plain": [
       "Krylov Solving for Equivariant Subspace r<=10:   0%|          | 0/100 [00:00<?, ?it/s]"
      ]
     },
     "metadata": {},
     "output_type": "display_data"
    },
    {
     "data": {
      "application/vnd.jupyter.widget-view+json": {
       "model_id": "6d1c75248f37467f95fa5dba8f73242b",
       "version_major": 2,
       "version_minor": 0
      },
      "text/plain": [
       "Krylov Solving for Equivariant Subspace r<=20:   0%|          | 0/100 [00:00<?, ?it/s]"
      ]
     },
     "metadata": {},
     "output_type": "display_data"
    }
   ],
   "source": [
    "import emlp\n",
    "from emlp.reps import T\n",
    "from emlp.groups import Lorentz\n",
    "import numpy as np\n",
    "\n",
    "repin = 4*T(1)+2*T(0) # 4 four vectors and 2 scalars for the charges\n",
    "repout = 3*T(0) # 3 output logits for the 3 classes of collisions\n",
    "group = Lorentz()\n",
    "model = emlp.nn.EMLP(repin,repout,group=group,num_layers=3,ch=384)\n",
    "\n",
    "x = np.random.randn(32,repin(group).size()) # Create a minibatch of data\n",
    "y = model(x) # Outputs the 3 class logits"
   ]
  },
  {
   "cell_type": "code",
   "execution_count": 7,
   "id": "362edffa",
   "metadata": {},
   "outputs": [
    {
     "ename": "ModuleNotFoundError",
     "evalue": "No module named 'geomstats.geometry'",
     "output_type": "error",
     "traceback": [
      "\u001b[0;31m---------------------------------------------------------------------------\u001b[0m",
      "\u001b[0;31mModuleNotFoundError\u001b[0m                       Traceback (most recent call last)",
      "\u001b[0;32m/var/folders/dz/k1hb2xr94k558sjs416njdp40000gn/T/ipykernel_34241/3443743424.py\u001b[0m in \u001b[0;36m<module>\u001b[0;34m\u001b[0m\n\u001b[0;32m----> 1\u001b[0;31m \u001b[0;32mfrom\u001b[0m \u001b[0mgeomstats\u001b[0m\u001b[0;34m.\u001b[0m\u001b[0mgeometry\u001b[0m\u001b[0;34m.\u001b[0m\u001b[0mskew_symmetric_matrices\u001b[0m \u001b[0;32mimport\u001b[0m \u001b[0mSkewSymmetricMatrices\u001b[0m \u001b[0;32mas\u001b[0m \u001b[0mSSM\u001b[0m\u001b[0;34m\u001b[0m\u001b[0;34m\u001b[0m\u001b[0m\n\u001b[0m",
      "\u001b[0;31mModuleNotFoundError\u001b[0m: No module named 'geomstats.geometry'"
     ]
    }
   ],
   "source": [
    "\n",
    "from geomstats.geometry.skew_symmetric_matrices import SkewSymmetricMatrices as SSM"
   ]
  },
  {
   "cell_type": "code",
   "execution_count": 6,
   "id": "f918cdfc",
   "metadata": {},
   "outputs": [
    {
     "ename": "NameError",
     "evalue": "name 'SSM' is not defined",
     "output_type": "error",
     "traceback": [
      "\u001b[0;31m---------------------------------------------------------------------------\u001b[0m",
      "\u001b[0;31mNameError\u001b[0m                                 Traceback (most recent call last)",
      "\u001b[0;32m/var/folders/dz/k1hb2xr94k558sjs416njdp40000gn/T/ipykernel_34241/232393315.py\u001b[0m in \u001b[0;36m<module>\u001b[0;34m\u001b[0m\n\u001b[0;32m----> 1\u001b[0;31m \u001b[0mssm\u001b[0m \u001b[0;34m=\u001b[0m \u001b[0mSSM\u001b[0m\u001b[0;34m(\u001b[0m\u001b[0mn\u001b[0m\u001b[0;34m=\u001b[0m\u001b[0;36m3\u001b[0m\u001b[0;34m)\u001b[0m\u001b[0;34m\u001b[0m\u001b[0;34m\u001b[0m\u001b[0m\n\u001b[0m",
      "\u001b[0;31mNameError\u001b[0m: name 'SSM' is not defined"
     ]
    }
   ],
   "source": [
    "ssm = SSM(n=3)"
   ]
  },
  {
   "cell_type": "code",
   "execution_count": null,
   "id": "c0dbe582",
   "metadata": {},
   "outputs": [],
   "source": []
  },
  {
   "cell_type": "code",
   "execution_count": null,
   "id": "9a173b71",
   "metadata": {},
   "outputs": [],
   "source": [
    "from geomstats.geometry.special_orthogonal import SpecialOrthogonal\n",
    "from emlp.groups import Group\n",
    "\n",
    "class GeomstatsGroup(Group):\n",
    "    def __init__(self, geomstats_group):\n",
    "        self.d = geomstats_group.dim\n",
    "        self.lie_algebra  # continuous generators\n",
    "        geomstats_group.lie_algebra.basis\n",
    "    "
   ]
  }
 ],
 "metadata": {
  "kernelspec": {
   "display_name": "Python 3 (ipykernel)",
   "language": "python",
   "name": "python3"
  },
  "language_info": {
   "codemirror_mode": {
    "name": "ipython",
    "version": 3
   },
   "file_extension": ".py",
   "mimetype": "text/x-python",
   "name": "python",
   "nbconvert_exporter": "python",
   "pygments_lexer": "ipython3",
   "version": "3.8.10"
  }
 },
 "nbformat": 4,
 "nbformat_minor": 5
}
