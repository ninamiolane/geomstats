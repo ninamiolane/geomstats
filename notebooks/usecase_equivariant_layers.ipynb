{
 "cells": [
  {
   "cell_type": "markdown",
   "id": "a85e00fb",
   "metadata": {},
   "source": [
    "# Tutorial: Equivariant Layers from LieGroups"
   ]
  },
  {
   "cell_type": "code",
   "execution_count": 23,
   "id": "29bc6362",
   "metadata": {},
   "outputs": [],
   "source": [
    "import os\n",
    "import sys\n",
    "import warnings\n",
    "\n",
    "sys.path.append(os.path.dirname(os.getcwd()))\n",
    "warnings.filterwarnings('ignore')\n",
    "\n",
    "import geomstats.backend as gs"
   ]
  },
  {
   "cell_type": "code",
   "execution_count": 24,
   "id": "f68e7403",
   "metadata": {},
   "outputs": [
    {
     "ename": "SyntaxError",
     "evalue": "invalid syntax (990132224.py, line 1)",
     "output_type": "error",
     "traceback": [
      "\u001b[0;36m  File \u001b[0;32m\"/var/folders/dz/k1hb2xr94k558sjs416njdp40000gn/T/ipykernel_34938/990132224.py\"\u001b[0;36m, line \u001b[0;32m1\u001b[0m\n\u001b[0;31m    from emlp.tests\u001b[0m\n\u001b[0m                   ^\u001b[0m\n\u001b[0;31mSyntaxError\u001b[0m\u001b[0;31m:\u001b[0m invalid syntax\n"
     ]
    }
   ],
   "source": [
    "from emlp.tests"
   ]
  },
  {
   "cell_type": "code",
   "execution_count": 14,
   "id": "d84833b2",
   "metadata": {},
   "outputs": [],
   "source": [
    "import emlp\n",
    "from emlp.reps import T\n",
    "from emlp.groups import Lorentz\n",
    "import numpy as np\n",
    "\n",
    "# repin = 4*T(1)+2*T(0) # 4 four vectors and 2 scalars for the charges\n",
    "# repout = 3*T(0) # 3 output logits for the 3 classes of collisions\n",
    "# group = Lorentz()\n",
    "# model = emlp.nn.EMLP(repin,repout,group=group,num_layers=3,ch=384)\n",
    "\n",
    "# x = np.random.randn(32,repin(group).size()) # Create a minibatch of data\n",
    "# y = model(x) # Outputs the 3 class logits"
   ]
  },
  {
   "cell_type": "code",
   "execution_count": 4,
   "id": "362edffa",
   "metadata": {},
   "outputs": [],
   "source": [
    "\n",
    "from geomstats.geometry.skew_symmetric_matrices import SkewSymmetricMatrices as SSM"
   ]
  },
  {
   "cell_type": "code",
   "execution_count": 8,
   "id": "f918cdfc",
   "metadata": {},
   "outputs": [],
   "source": [
    "ssm = SSM(n=5)"
   ]
  },
  {
   "cell_type": "code",
   "execution_count": 9,
   "id": "c0dbe582",
   "metadata": {},
   "outputs": [
    {
     "data": {
      "text/plain": [
       "(10, 5, 5)"
      ]
     },
     "execution_count": 9,
     "metadata": {},
     "output_type": "execute_result"
    }
   ],
   "source": [
    "ssm.basis.shape"
   ]
  },
  {
   "cell_type": "code",
   "execution_count": 10,
   "id": "9a173b71",
   "metadata": {},
   "outputs": [
    {
     "name": "stderr",
     "output_type": "stream",
     "text": [
      "INFO: Unable to initialize backend 'tpu_driver': Not found: Unable to find driver in registry given worker: \n",
      "INFO: Unable to initialize backend 'gpu': Not found: Could not find registered platform with name: \"cuda\". Available platform names are: Host Interpreter\n",
      "INFO: Unable to initialize backend 'tpu': Invalid argument: TpuPlatform is not available.\n",
      "WARNING: No GPU/TPU found, falling back to CPU. (Set TF_CPP_MIN_LOG_LEVEL=0 and rerun for more info.)\n"
     ]
    }
   ],
   "source": [
    "from geomstats.geometry.special_orthogonal import SpecialOrthogonal\n",
    "from emlp.groups import Group\n",
    "\n",
    "class GeomstatsGroup(Group):\n",
    "    def __init__(self, geomstats_group):\n",
    "        self.d = geomstats_group.dim\n",
    "        self.lie_algebra = geomstats_group.lie_algebra.basis\n",
    "        # continuous generators\n",
    "        super().__init__()\n",
    "    "
   ]
  },
  {
   "cell_type": "code",
   "execution_count": 11,
   "id": "828c5b85",
   "metadata": {},
   "outputs": [],
   "source": [
    "gs_group = SpecialOrthogonal(n=3)\n",
    "test_g = GeomstatsGroup(gs_group)"
   ]
  },
  {
   "cell_type": "code",
   "execution_count": 16,
   "id": "ef43f922",
   "metadata": {},
   "outputs": [],
   "source": [
    "from jax import vmap\n",
    "import jax.numpy as jnp"
   ]
  },
  {
   "cell_type": "code",
   "execution_count": 19,
   "id": "3bdc91ff",
   "metadata": {},
   "outputs": [],
   "source": [
    "\n",
    "def scale_adjusted_rel_error(t1,t2,g):\n",
    "    error = jnp.sqrt(jnp.mean(jnp.abs(t1-t2)**2))\n",
    "    tscale = jnp.sqrt(jnp.mean(jnp.abs(t1)**2)) + jnp.sqrt(jnp.mean(jnp.abs(t2)**2))\n",
    "    gscale = jnp.sqrt(jnp.mean(jnp.abs(g-jnp.eye(g.shape[-1]))**2))\n",
    "    scale = jnp.maximum(tscale,gscale)\n",
    "    return error/jnp.maximum(scale,1e-7)"
   ]
  },
  {
   "cell_type": "code",
   "execution_count": 20,
   "id": "bf32e218",
   "metadata": {},
   "outputs": [],
   "source": [
    "from emlp.reps import *\n",
    "from emlp.groups import *\n",
    "from emlp.nn import uniform_rep\n",
    "\n",
    "def test_sum(G):\n",
    "    N=5\n",
    "    rep = T(0,2)+3*(T(0,0)+T(1,0))+T(0,0)+T(1,1)+2*T(1,0)+T(0,2)+T(0,1)+3*T(0,2)+T(2,0)\n",
    "    rep = rep(G)\n",
    "    if G.num_constraints()*rep.size()>1e11 or rep.size()**2>10**7: return\n",
    "    P = rep.equivariant_projector()\n",
    "    v = np.random.rand(rep.size())\n",
    "    v = P@v\n",
    "    gs = G.samples(N)\n",
    "    gv = (vmap(rep.rho_dense)(gs)*v).sum(-1)\n",
    "    err = vmap(scale_adjusted_rel_error)(gv,v+jnp.zeros_like(gv),gs).mean()\n",
    "    assert err<1e-4,f\"Symmetric vector fails err {err:.3e} with G={G}\"\n",
    "    \n"
   ]
  },
  {
   "cell_type": "code",
   "execution_count": 21,
   "id": "9b78083c",
   "metadata": {},
   "outputs": [],
   "source": [
    "test_sum(test_g)"
   ]
  },
  {
   "cell_type": "code",
   "execution_count": 25,
   "id": "f9776aa2",
   "metadata": {},
   "outputs": [
    {
     "ename": "ModuleNotFoundError",
     "evalue": "No module named 'emlp.tests'",
     "output_type": "error",
     "traceback": [
      "\u001b[0;31m---------------------------------------------------------------------------\u001b[0m",
      "\u001b[0;31mModuleNotFoundError\u001b[0m                       Traceback (most recent call last)",
      "\u001b[0;32m/var/folders/dz/k1hb2xr94k558sjs416njdp40000gn/T/ipykernel_34938/2542569830.py\u001b[0m in \u001b[0;36m<module>\u001b[0;34m\u001b[0m\n\u001b[0;32m----> 1\u001b[0;31m \u001b[0;32mfrom\u001b[0m \u001b[0memlp\u001b[0m\u001b[0;34m.\u001b[0m\u001b[0mtests\u001b[0m\u001b[0;34m.\u001b[0m\u001b[0mequivariance_tests\u001b[0m \u001b[0;32mimport\u001b[0m \u001b[0mtest_sum\u001b[0m\u001b[0;34m\u001b[0m\u001b[0;34m\u001b[0m\u001b[0m\n\u001b[0m",
      "\u001b[0;31mModuleNotFoundError\u001b[0m: No module named 'emlp.tests'"
     ]
    }
   ],
   "source": [
    "from emlp.tests.equivariance_tests import test_sum"
   ]
  },
  {
   "cell_type": "code",
   "execution_count": null,
   "id": "0e9e7b7d",
   "metadata": {},
   "outputs": [],
   "source": []
  }
 ],
 "metadata": {
  "kernelspec": {
   "display_name": "Python 3 (ipykernel)",
   "language": "python",
   "name": "python3"
  },
  "language_info": {
   "codemirror_mode": {
    "name": "ipython",
    "version": 3
   },
   "file_extension": ".py",
   "mimetype": "text/x-python",
   "name": "python",
   "nbconvert_exporter": "python",
   "pygments_lexer": "ipython3",
   "version": "3.8.10"
  }
 },
 "nbformat": 4,
 "nbformat_minor": 5
}
