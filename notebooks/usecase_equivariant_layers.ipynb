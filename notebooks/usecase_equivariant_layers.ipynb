{
 "cells": [
  {
   "cell_type": "markdown",
   "id": "a85e00fb",
   "metadata": {},
   "source": [
    "# Tutorial: Equivariant Layers from LieGroups"
   ]
  },
  {
   "cell_type": "code",
   "execution_count": 1,
   "id": "29bc6362",
   "metadata": {},
   "outputs": [
    {
     "name": "stderr",
     "output_type": "stream",
     "text": [
      "INFO: Using numpy backend\n"
     ]
    }
   ],
   "source": [
    "import os\n",
    "import sys\n",
    "import warnings\n",
    "\n",
    "sys.path.append(os.path.dirname(os.getcwd()))\n",
    "warnings.filterwarnings('ignore')\n",
    "\n",
    "import geomstats.backend as gs"
   ]
  },
  {
   "cell_type": "markdown",
   "id": "4a76059c",
   "metadata": {},
   "source": [
    "# Wrapper class to instantiate an EMLP group from a Geomstats group"
   ]
  },
  {
   "cell_type": "code",
   "execution_count": 2,
   "id": "9a173b71",
   "metadata": {},
   "outputs": [
    {
     "name": "stderr",
     "output_type": "stream",
     "text": [
      "INFO: Unable to initialize backend 'tpu_driver': Not found: Unable to find driver in registry given worker: \n",
      "INFO: Unable to initialize backend 'gpu': Not found: Could not find registered platform with name: \"cuda\". Available platform names are: Interpreter Host\n",
      "INFO: Unable to initialize backend 'tpu': Invalid argument: TpuPlatform is not available.\n",
      "WARNING: No GPU/TPU found, falling back to CPU. (Set TF_CPP_MIN_LOG_LEVEL=0 and rerun for more info.)\n"
     ]
    }
   ],
   "source": [
    "from geomstats.geometry.special_orthogonal import SpecialOrthogonal\n",
    "from emlp.groups import Group\n",
    "\n",
    "class GeomstatsGroup(Group):\n",
    "    def __init__(self, geomstats_group):\n",
    "        self.d = geomstats_group.dim\n",
    "        \n",
    "        # continuous generators only\n",
    "        self.lie_algebra = geomstats_group.lie_algebra.basis\n",
    "    \n",
    "        super().__init__()"
   ]
  },
  {
   "cell_type": "code",
   "execution_count": 3,
   "id": "828c5b85",
   "metadata": {},
   "outputs": [
    {
     "name": "stdout",
     "output_type": "stream",
     "text": [
      "<class 'jaxlib.xla_extension.DeviceArray'>\n",
      "(3, 3, 3)\n",
      "[[[ 0.  0.  0.]\n",
      "  [ 0.  0. -1.]\n",
      "  [ 0.  1.  0.]]\n",
      "\n",
      " [[ 0.  0.  1.]\n",
      "  [ 0.  0.  0.]\n",
      "  [-1.  0.  0.]]\n",
      "\n",
      " [[ 0. -1.  0.]\n",
      "  [ 1.  0.  0.]\n",
      "  [ 0.  0.  0.]]]\n"
     ]
    }
   ],
   "source": [
    "test_geomstats_group = SpecialOrthogonal(n=3)\n",
    "test_group = GeomstatsGroup(test_geomstats_group)\n",
    "\n",
    "print(type(test_group.lie_algebra))\n",
    "print(test_group.lie_algebra.shape)\n",
    "print(test_group.lie_algebra)"
   ]
  },
  {
   "cell_type": "markdown",
   "id": "e3145819",
   "metadata": {},
   "source": [
    "# Run EMLP unit tests"
   ]
  },
  {
   "cell_type": "code",
   "execution_count": 4,
   "id": "2af54c0a",
   "metadata": {},
   "outputs": [],
   "source": [
    "from emlp_tests.equivariance_tests import \\\n",
    "    test_sum, test_prod, test_high_rank_representations, test_large_representations"
   ]
  },
  {
   "cell_type": "code",
   "execution_count": 5,
   "id": "ef43f922",
   "metadata": {},
   "outputs": [
    {
     "name": "stderr",
     "output_type": "stream",
     "text": [
      "INFO: V cache miss\n",
      "INFO: Solving basis for V, for G=GeomstatsGroup\n",
      "INFO: V² cache miss\n",
      "INFO: Solving basis for V², for G=GeomstatsGroup\n"
     ]
    }
   ],
   "source": [
    "test_sum(test_group)"
   ]
  },
  {
   "cell_type": "code",
   "execution_count": 6,
   "id": "9b78083c",
   "metadata": {},
   "outputs": [
    {
     "name": "stderr",
     "output_type": "stream",
     "text": [
      "INFO: V⁵ cache miss\n",
      "INFO: Solving basis for V⁵, for G=GeomstatsGroup\n"
     ]
    }
   ],
   "source": [
    "test_prod(test_group)"
   ]
  },
  {
   "cell_type": "code",
   "execution_count": 7,
   "id": "d6628175",
   "metadata": {},
   "outputs": [
    {
     "name": "stderr",
     "output_type": "stream",
     "text": [
      "INFO: Success with T(0, 0) and G=GeomstatsGroup\n",
      "INFO: Success with T(1, 0) and G=GeomstatsGroup\n",
      "INFO: Success with T(2, 0) and G=GeomstatsGroup\n",
      "INFO: V³ cache miss\n",
      "INFO: Solving basis for V³, for G=GeomstatsGroup\n",
      "INFO: Success with T(3, 0) and G=GeomstatsGroup\n",
      "INFO: V⁴ cache miss\n",
      "INFO: Solving basis for V⁴, for G=GeomstatsGroup\n",
      "INFO: Success with T(4, 0) and G=GeomstatsGroup\n",
      "INFO: Success with T(5, 0) and G=GeomstatsGroup\n",
      "INFO: V⁶ cache miss\n",
      "INFO: Solving basis for V⁶, for G=GeomstatsGroup\n",
      "INFO: Success with T(6, 0) and G=GeomstatsGroup\n",
      "INFO: V⁷ cache miss\n",
      "INFO: Solving basis for V⁷, for G=GeomstatsGroup\n",
      "INFO: Success with T(7, 0) and G=GeomstatsGroup\n"
     ]
    }
   ],
   "source": [
    "test_high_rank_representations(test_group)"
   ]
  },
  {
   "cell_type": "code",
   "execution_count": 8,
   "id": "d523dff6",
   "metadata": {},
   "outputs": [
    {
     "name": "stderr",
     "output_type": "stream",
     "text": [
      "INFO: Success with G=GeomstatsGroup\n"
     ]
    }
   ],
   "source": [
    "test_large_representations(test_group)"
   ]
  },
  {
   "cell_type": "code",
   "execution_count": 9,
   "id": "ca16bc35",
   "metadata": {},
   "outputs": [],
   "source": [
    "from emlp.reps import T\n",
    "from emlp_tests.equivariance_tests import test_equivariant_matrix, test_bilinear_layer"
   ]
  },
  {
   "cell_type": "code",
   "execution_count": 10,
   "id": "ceda8a65",
   "metadata": {},
   "outputs": [],
   "source": [
    "test_equivariant_matrix(test_group, T(1) + 2 * T(0), T(1) + T(2) + 2 * T(0) + T(1))"
   ]
  },
  {
   "cell_type": "code",
   "execution_count": 11,
   "id": "ece92acd",
   "metadata": {},
   "outputs": [],
   "source": [
    "test_equivariant_matrix(test_group, 5 * T(0) + 5 * T(1), 3 * T(0) + T(2)+ 2 * T(1))"
   ]
  },
  {
   "cell_type": "code",
   "execution_count": 12,
   "id": "f1f87dde",
   "metadata": {},
   "outputs": [],
   "source": [
    "test_equivariant_matrix(test_group, 5 * (T(0) + T(1)), 2 * (T(0) + T(1)) + T(2) + T(1))"
   ]
  },
  {
   "cell_type": "code",
   "execution_count": 13,
   "id": "18e816dc",
   "metadata": {},
   "outputs": [],
   "source": [
    "test_bilinear_layer(test_group, 5 * T(0) + 5 * T(1), 3 * T(0) + T(2) + 2 * T(1))"
   ]
  },
  {
   "cell_type": "markdown",
   "id": "0321cd77",
   "metadata": {},
   "source": [
    "# Build EMLP Layer with Geomstats Group"
   ]
  },
  {
   "cell_type": "code",
   "execution_count": 14,
   "id": "00c0d429",
   "metadata": {},
   "outputs": [
    {
     "name": "stderr",
     "output_type": "stream",
     "text": [
      "INFO: Initing EMLP (objax)\n",
      "INFO: Reps: [5V⁰+5V, 102V⁰+34V+11V²+3V³, 102V⁰+34V+11V²+3V³, 102V⁰+34V+11V²+3V³]\n",
      "INFO: Linear W components:8640 rep:750V⁰+920V+225V²+70V³+15V⁴\n",
      "INFO: BiW components: dim:75648\n",
      "INFO: Linear W components:165888 rep:15300V⁰+8568V+3928V²+1504V³+325V⁴+66V⁵+9V⁶\n",
      "INFO: BiW components: dim:75648\n",
      "INFO: Linear W components:165888 rep:15300V⁰+8568V+3928V²+1504V³+325V⁴+66V⁵+9V⁶\n",
      "INFO: BiW components: dim:75648\n",
      "INFO: Linear W components:1152 rep:306V⁰+102V+33V²+9V³\n"
     ]
    }
   ],
   "source": [
    "import numpy as np\n",
    "\n",
    "import emlp\n",
    "\n",
    "repin = 5 * T(0) + 5 * T(1)\n",
    "repout = 3 * T(0) # 3 output logits for the 3 classes of collisions\n",
    "group = test_group\n",
    "model = emlp.nn.EMLP(repin, repout, group=group, num_layers=3, ch=384)\n",
    "\n",
    "x = np.random.randn(32, repin(group).size()) # Create a minibatch of data\n",
    "y = model(x) # Outputs the 3 class logits"
   ]
  },
  {
   "cell_type": "code",
   "execution_count": null,
   "id": "970f2849",
   "metadata": {},
   "outputs": [],
   "source": []
  }
 ],
 "metadata": {
  "kernelspec": {
   "display_name": "Python 3",
   "language": "python",
   "name": "python3"
  },
  "language_info": {
   "codemirror_mode": {
    "name": "ipython",
    "version": 3
   },
   "file_extension": ".py",
   "mimetype": "text/x-python",
   "name": "python",
   "nbconvert_exporter": "python",
   "pygments_lexer": "ipython3",
   "version": "3.8.8"
  }
 },
 "nbformat": 4,
 "nbformat_minor": 5
}
